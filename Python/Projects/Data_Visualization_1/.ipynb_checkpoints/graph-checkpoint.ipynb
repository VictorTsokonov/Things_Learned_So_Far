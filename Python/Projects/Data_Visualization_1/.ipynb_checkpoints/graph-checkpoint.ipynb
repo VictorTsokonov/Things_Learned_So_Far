{
 "cells": [
  {
   "cell_type": "code",
   "execution_count": 2,
   "id": "explicit-bulgarian",
   "metadata": {},
   "outputs": [],
   "source": [
    "import pandas\n",
    "from bokeh.plotting import figure\n",
    "from bokeh.io import output_file,show\n",
    "\n",
    "df = pandas.read_excel(\"..//verlegenhuken.xlsx\", engine='openpyxl')\n",
    "\n",
    "y = df[\"Temperature\"]\n",
    "x = df[\"Pressure\"]\n",
    "\n",
    "output_file(\"Graph.html\")\n",
    "\n",
    "f = figure(plot_width=500,plot_height=400)\n",
    "\n",
    "f.title.text=\"Cool Data\"\n",
    "f.title.text_color=\"Grey\"\n",
    "f.title.text_font=\"times\"\n",
    "f.title.text_font_style=\"bold\"\n",
    "f.xaxis.minor_tick_line_color=None\n",
    "f.yaxis.minor_tick_line_color=None\n",
    "f.xaxis.axis_label=\"Date\"\n",
    "f.yaxis.axis_label=\"Intensity\"\n",
    "\n",
    "f.circle(x,y)\n",
    "\n",
    "show(f)\n"
   ]
  },
  {
   "cell_type": "code",
   "execution_count": null,
   "id": "broken-remains",
   "metadata": {},
   "outputs": [],
   "source": []
  }
 ],
 "metadata": {
  "kernelspec": {
   "display_name": "Python 3",
   "language": "python",
   "name": "python3"
  },
  "language_info": {
   "codemirror_mode": {
    "name": "ipython",
    "version": 3
   },
   "file_extension": ".py",
   "mimetype": "text/x-python",
   "name": "python",
   "nbconvert_exporter": "python",
   "pygments_lexer": "ipython3",
   "version": "3.10.0"
  }
 },
 "nbformat": 4,
 "nbformat_minor": 5
}
